{
 "cells": [
  {
   "cell_type": "code",
   "execution_count": 1,
   "id": "7c24a5fc",
   "metadata": {},
   "outputs": [],
   "source": [
    "#importing nessesary modules and libraries\n",
    "import pandas as pd\n",
    "import seaborn as sns"
   ]
  },
  {
   "cell_type": "code",
   "execution_count": 3,
   "id": "6076b37c",
   "metadata": {},
   "outputs": [],
   "source": [
    "#loading data\n",
    "df = pd.read_excel(r\"/home/lynn/Documents/MDSF Data science/datasets/Customer_dataset.xlsx\")\n",
    "\n",
    "#the set_option is to have the display.precision showing 2 digits after point\n",
    "pd.set_option(\"display.precision\", 2)"
   ]
  },
  {
   "cell_type": "markdown",
   "id": "0a3c2856",
   "metadata": {},
   "source": [
    "## Exploratory Analysis = Overview"
   ]
  },
  {
   "cell_type": "code",
   "execution_count": 4,
   "id": "62680c85",
   "metadata": {},
   "outputs": [
    {
     "data": {
      "text/html": [
       "<div>\n",
       "<style scoped>\n",
       "    .dataframe tbody tr th:only-of-type {\n",
       "        vertical-align: middle;\n",
       "    }\n",
       "\n",
       "    .dataframe tbody tr th {\n",
       "        vertical-align: top;\n",
       "    }\n",
       "\n",
       "    .dataframe thead th {\n",
       "        text-align: right;\n",
       "    }\n",
       "</style>\n",
       "<table border=\"1\" class=\"dataframe\">\n",
       "  <thead>\n",
       "    <tr style=\"text-align: right;\">\n",
       "      <th></th>\n",
       "      <th>CustomerID</th>\n",
       "      <th>Date_of_Birth</th>\n",
       "      <th>Is_Working</th>\n",
       "      <th>Monthly_income</th>\n",
       "      <th>Unnamed: 4</th>\n",
       "    </tr>\n",
       "  </thead>\n",
       "  <tbody>\n",
       "    <tr>\n",
       "      <th>0</th>\n",
       "      <td>1000</td>\n",
       "      <td>20</td>\n",
       "      <td>0</td>\n",
       "      <td>380</td>\n",
       "      <td>NaN</td>\n",
       "    </tr>\n",
       "    <tr>\n",
       "      <th>1</th>\n",
       "      <td>1001</td>\n",
       "      <td>18</td>\n",
       "      <td>0</td>\n",
       "      <td>210</td>\n",
       "      <td>NaN</td>\n",
       "    </tr>\n",
       "    <tr>\n",
       "      <th>2</th>\n",
       "      <td>1002</td>\n",
       "      <td>21</td>\n",
       "      <td>0</td>\n",
       "      <td>180</td>\n",
       "      <td>NaN</td>\n",
       "    </tr>\n",
       "    <tr>\n",
       "      <th>3</th>\n",
       "      <td>1003</td>\n",
       "      <td>21</td>\n",
       "      <td>0</td>\n",
       "      <td>190</td>\n",
       "      <td>NaN</td>\n",
       "    </tr>\n",
       "    <tr>\n",
       "      <th>4</th>\n",
       "      <td>1004</td>\n",
       "      <td>18</td>\n",
       "      <td>0</td>\n",
       "      <td>250</td>\n",
       "      <td>NaN</td>\n",
       "    </tr>\n",
       "  </tbody>\n",
       "</table>\n",
       "</div>"
      ],
      "text/plain": [
       "   CustomerID  Date_of_Birth  Is_Working  Monthly_income  Unnamed: 4\n",
       "0        1000             20           0             380         NaN\n",
       "1        1001             18           0             210         NaN\n",
       "2        1002             21           0             180         NaN\n",
       "3        1003             21           0             190         NaN\n",
       "4        1004             18           0             250         NaN"
      ]
     },
     "execution_count": 4,
     "metadata": {},
     "output_type": "execute_result"
    }
   ],
   "source": [
    "#overview of the data\n",
    "df.head(5)"
   ]
  },
  {
   "cell_type": "markdown",
   "id": "f99f73ca",
   "metadata": {},
   "source": [
    "## here you can notice:\n",
    "1- unnamed: 4, it might be due to importing the data from xlsx file.\n",
    "\n",
    "\n",
    "2- in total we should have 4 columns"
   ]
  },
  {
   "cell_type": "code",
   "execution_count": 5,
   "id": "16b8588e",
   "metadata": {},
   "outputs": [
    {
     "data": {
      "text/html": [
       "<div>\n",
       "<style scoped>\n",
       "    .dataframe tbody tr th:only-of-type {\n",
       "        vertical-align: middle;\n",
       "    }\n",
       "\n",
       "    .dataframe tbody tr th {\n",
       "        vertical-align: top;\n",
       "    }\n",
       "\n",
       "    .dataframe thead th {\n",
       "        text-align: right;\n",
       "    }\n",
       "</style>\n",
       "<table border=\"1\" class=\"dataframe\">\n",
       "  <thead>\n",
       "    <tr style=\"text-align: right;\">\n",
       "      <th></th>\n",
       "      <th>CustomerID</th>\n",
       "      <th>Date_of_Birth</th>\n",
       "      <th>Is_Working</th>\n",
       "      <th>Monthly_income</th>\n",
       "      <th>Unnamed: 4</th>\n",
       "    </tr>\n",
       "  </thead>\n",
       "  <tbody>\n",
       "    <tr>\n",
       "      <th>196</th>\n",
       "      <td>1196</td>\n",
       "      <td>19</td>\n",
       "      <td>0</td>\n",
       "      <td>190</td>\n",
       "      <td>NaN</td>\n",
       "    </tr>\n",
       "    <tr>\n",
       "      <th>197</th>\n",
       "      <td>1197</td>\n",
       "      <td>19</td>\n",
       "      <td>0</td>\n",
       "      <td>210</td>\n",
       "      <td>NaN</td>\n",
       "    </tr>\n",
       "    <tr>\n",
       "      <th>198</th>\n",
       "      <td>1198</td>\n",
       "      <td>19</td>\n",
       "      <td>0</td>\n",
       "      <td>320</td>\n",
       "      <td>NaN</td>\n",
       "    </tr>\n",
       "    <tr>\n",
       "      <th>199</th>\n",
       "      <td>1199</td>\n",
       "      <td>18</td>\n",
       "      <td>0</td>\n",
       "      <td>180</td>\n",
       "      <td>NaN</td>\n",
       "    </tr>\n",
       "    <tr>\n",
       "      <th>200</th>\n",
       "      <td>1200</td>\n",
       "      <td>22</td>\n",
       "      <td>1</td>\n",
       "      <td>1350</td>\n",
       "      <td>NaN</td>\n",
       "    </tr>\n",
       "  </tbody>\n",
       "</table>\n",
       "</div>"
      ],
      "text/plain": [
       "     CustomerID  Date_of_Birth  Is_Working  Monthly_income  Unnamed: 4\n",
       "196        1196             19           0             190         NaN\n",
       "197        1197             19           0             210         NaN\n",
       "198        1198             19           0             320         NaN\n",
       "199        1199             18           0             180         NaN\n",
       "200        1200             22           1            1350         NaN"
      ]
     },
     "execution_count": 5,
     "metadata": {},
     "output_type": "execute_result"
    }
   ],
   "source": [
    "df.tail(5)"
   ]
  },
  {
   "cell_type": "code",
   "execution_count": 6,
   "id": "3d9d89f7",
   "metadata": {},
   "outputs": [
    {
     "name": "stdout",
     "output_type": "stream",
     "text": [
      "<class 'pandas.core.frame.DataFrame'>\n",
      "RangeIndex: 201 entries, 0 to 200\n",
      "Data columns (total 5 columns):\n",
      " #   Column          Non-Null Count  Dtype  \n",
      "---  ------          --------------  -----  \n",
      " 0   CustomerID      201 non-null    int64  \n",
      " 1   Date_of_Birth   201 non-null    int64  \n",
      " 2   Is_Working      201 non-null    int64  \n",
      " 3   Monthly_income  201 non-null    int64  \n",
      " 4   Unnamed: 4      0 non-null      float64\n",
      "dtypes: float64(1), int64(4)\n",
      "memory usage: 8.0 KB\n"
     ]
    }
   ],
   "source": [
    "df.info()"
   ]
  },
  {
   "cell_type": "code",
   "execution_count": 7,
   "id": "942b74f2",
   "metadata": {},
   "outputs": [
    {
     "data": {
      "text/plain": [
       "CustomerID          0\n",
       "Date_of_Birth       0\n",
       "Is_Working          0\n",
       "Monthly_income      0\n",
       "Unnamed: 4        201\n",
       "dtype: int64"
      ]
     },
     "execution_count": 7,
     "metadata": {},
     "output_type": "execute_result"
    }
   ],
   "source": [
    "df.isnull().sum()"
   ]
  },
  {
   "cell_type": "code",
   "execution_count": 8,
   "id": "450c5a05",
   "metadata": {},
   "outputs": [
    {
     "data": {
      "text/plain": [
       "1005"
      ]
     },
     "execution_count": 8,
     "metadata": {},
     "output_type": "execute_result"
    }
   ],
   "source": [
    "#we have 1005 elements in our dataset\n",
    "df.size"
   ]
  },
  {
   "cell_type": "code",
   "execution_count": 9,
   "id": "de00a132",
   "metadata": {},
   "outputs": [
    {
     "data": {
      "text/plain": [
       "(201, 5)"
      ]
     },
     "execution_count": 9,
     "metadata": {},
     "output_type": "execute_result"
    }
   ],
   "source": [
    "#we have 201 rows & 5 columns in our dataset\n",
    "df.shape"
   ]
  },
  {
   "cell_type": "code",
   "execution_count": 10,
   "id": "d59b943d",
   "metadata": {},
   "outputs": [
    {
     "data": {
      "text/html": [
       "<div>\n",
       "<style scoped>\n",
       "    .dataframe tbody tr th:only-of-type {\n",
       "        vertical-align: middle;\n",
       "    }\n",
       "\n",
       "    .dataframe tbody tr th {\n",
       "        vertical-align: top;\n",
       "    }\n",
       "\n",
       "    .dataframe thead th {\n",
       "        text-align: right;\n",
       "    }\n",
       "</style>\n",
       "<table border=\"1\" class=\"dataframe\">\n",
       "  <thead>\n",
       "    <tr style=\"text-align: right;\">\n",
       "      <th></th>\n",
       "      <th>ID</th>\n",
       "      <th>Age</th>\n",
       "      <th>Work_Status</th>\n",
       "      <th>Monthly_income</th>\n",
       "      <th>Unnamed: 4</th>\n",
       "    </tr>\n",
       "  </thead>\n",
       "  <tbody>\n",
       "    <tr>\n",
       "      <th>0</th>\n",
       "      <td>1000</td>\n",
       "      <td>20</td>\n",
       "      <td>0</td>\n",
       "      <td>380</td>\n",
       "      <td>NaN</td>\n",
       "    </tr>\n",
       "    <tr>\n",
       "      <th>1</th>\n",
       "      <td>1001</td>\n",
       "      <td>18</td>\n",
       "      <td>0</td>\n",
       "      <td>210</td>\n",
       "      <td>NaN</td>\n",
       "    </tr>\n",
       "    <tr>\n",
       "      <th>2</th>\n",
       "      <td>1002</td>\n",
       "      <td>21</td>\n",
       "      <td>0</td>\n",
       "      <td>180</td>\n",
       "      <td>NaN</td>\n",
       "    </tr>\n",
       "    <tr>\n",
       "      <th>3</th>\n",
       "      <td>1003</td>\n",
       "      <td>21</td>\n",
       "      <td>0</td>\n",
       "      <td>190</td>\n",
       "      <td>NaN</td>\n",
       "    </tr>\n",
       "    <tr>\n",
       "      <th>4</th>\n",
       "      <td>1004</td>\n",
       "      <td>18</td>\n",
       "      <td>0</td>\n",
       "      <td>250</td>\n",
       "      <td>NaN</td>\n",
       "    </tr>\n",
       "    <tr>\n",
       "      <th>...</th>\n",
       "      <td>...</td>\n",
       "      <td>...</td>\n",
       "      <td>...</td>\n",
       "      <td>...</td>\n",
       "      <td>...</td>\n",
       "    </tr>\n",
       "    <tr>\n",
       "      <th>196</th>\n",
       "      <td>1196</td>\n",
       "      <td>19</td>\n",
       "      <td>0</td>\n",
       "      <td>190</td>\n",
       "      <td>NaN</td>\n",
       "    </tr>\n",
       "    <tr>\n",
       "      <th>197</th>\n",
       "      <td>1197</td>\n",
       "      <td>19</td>\n",
       "      <td>0</td>\n",
       "      <td>210</td>\n",
       "      <td>NaN</td>\n",
       "    </tr>\n",
       "    <tr>\n",
       "      <th>198</th>\n",
       "      <td>1198</td>\n",
       "      <td>19</td>\n",
       "      <td>0</td>\n",
       "      <td>320</td>\n",
       "      <td>NaN</td>\n",
       "    </tr>\n",
       "    <tr>\n",
       "      <th>199</th>\n",
       "      <td>1199</td>\n",
       "      <td>18</td>\n",
       "      <td>0</td>\n",
       "      <td>180</td>\n",
       "      <td>NaN</td>\n",
       "    </tr>\n",
       "    <tr>\n",
       "      <th>200</th>\n",
       "      <td>1200</td>\n",
       "      <td>22</td>\n",
       "      <td>1</td>\n",
       "      <td>1350</td>\n",
       "      <td>NaN</td>\n",
       "    </tr>\n",
       "  </tbody>\n",
       "</table>\n",
       "<p>201 rows × 5 columns</p>\n",
       "</div>"
      ],
      "text/plain": [
       "       ID  Age  Work_Status  Monthly_income  Unnamed: 4\n",
       "0    1000   20            0             380         NaN\n",
       "1    1001   18            0             210         NaN\n",
       "2    1002   21            0             180         NaN\n",
       "3    1003   21            0             190         NaN\n",
       "4    1004   18            0             250         NaN\n",
       "..    ...  ...          ...             ...         ...\n",
       "196  1196   19            0             190         NaN\n",
       "197  1197   19            0             210         NaN\n",
       "198  1198   19            0             320         NaN\n",
       "199  1199   18            0             180         NaN\n",
       "200  1200   22            1            1350         NaN\n",
       "\n",
       "[201 rows x 5 columns]"
      ]
     },
     "execution_count": 10,
     "metadata": {},
     "output_type": "execute_result"
    }
   ],
   "source": [
    "#renaming the columns, better manipulation, inplace to affect the original data\n",
    "df.rename(columns = {\"Date_of_Birth\": \"Age\", \"CustomerID\":\"ID\", \"Is_Working\": \"Work_Status\"}, inplace = True)\n",
    "df"
   ]
  },
  {
   "cell_type": "code",
   "execution_count": 11,
   "id": "08032210",
   "metadata": {},
   "outputs": [
    {
     "data": {
      "text/html": [
       "<div>\n",
       "<style scoped>\n",
       "    .dataframe tbody tr th:only-of-type {\n",
       "        vertical-align: middle;\n",
       "    }\n",
       "\n",
       "    .dataframe tbody tr th {\n",
       "        vertical-align: top;\n",
       "    }\n",
       "\n",
       "    .dataframe thead th {\n",
       "        text-align: right;\n",
       "    }\n",
       "</style>\n",
       "<table border=\"1\" class=\"dataframe\">\n",
       "  <thead>\n",
       "    <tr style=\"text-align: right;\">\n",
       "      <th></th>\n",
       "      <th>ID</th>\n",
       "      <th>Age</th>\n",
       "      <th>Work_Status</th>\n",
       "      <th>Monthly_income</th>\n",
       "    </tr>\n",
       "  </thead>\n",
       "  <tbody>\n",
       "    <tr>\n",
       "      <th>0</th>\n",
       "      <td>1000</td>\n",
       "      <td>20</td>\n",
       "      <td>0</td>\n",
       "      <td>380</td>\n",
       "    </tr>\n",
       "    <tr>\n",
       "      <th>1</th>\n",
       "      <td>1001</td>\n",
       "      <td>18</td>\n",
       "      <td>0</td>\n",
       "      <td>210</td>\n",
       "    </tr>\n",
       "    <tr>\n",
       "      <th>2</th>\n",
       "      <td>1002</td>\n",
       "      <td>21</td>\n",
       "      <td>0</td>\n",
       "      <td>180</td>\n",
       "    </tr>\n",
       "    <tr>\n",
       "      <th>3</th>\n",
       "      <td>1003</td>\n",
       "      <td>21</td>\n",
       "      <td>0</td>\n",
       "      <td>190</td>\n",
       "    </tr>\n",
       "    <tr>\n",
       "      <th>4</th>\n",
       "      <td>1004</td>\n",
       "      <td>18</td>\n",
       "      <td>0</td>\n",
       "      <td>250</td>\n",
       "    </tr>\n",
       "    <tr>\n",
       "      <th>...</th>\n",
       "      <td>...</td>\n",
       "      <td>...</td>\n",
       "      <td>...</td>\n",
       "      <td>...</td>\n",
       "    </tr>\n",
       "    <tr>\n",
       "      <th>196</th>\n",
       "      <td>1196</td>\n",
       "      <td>19</td>\n",
       "      <td>0</td>\n",
       "      <td>190</td>\n",
       "    </tr>\n",
       "    <tr>\n",
       "      <th>197</th>\n",
       "      <td>1197</td>\n",
       "      <td>19</td>\n",
       "      <td>0</td>\n",
       "      <td>210</td>\n",
       "    </tr>\n",
       "    <tr>\n",
       "      <th>198</th>\n",
       "      <td>1198</td>\n",
       "      <td>19</td>\n",
       "      <td>0</td>\n",
       "      <td>320</td>\n",
       "    </tr>\n",
       "    <tr>\n",
       "      <th>199</th>\n",
       "      <td>1199</td>\n",
       "      <td>18</td>\n",
       "      <td>0</td>\n",
       "      <td>180</td>\n",
       "    </tr>\n",
       "    <tr>\n",
       "      <th>200</th>\n",
       "      <td>1200</td>\n",
       "      <td>22</td>\n",
       "      <td>1</td>\n",
       "      <td>1350</td>\n",
       "    </tr>\n",
       "  </tbody>\n",
       "</table>\n",
       "<p>201 rows × 4 columns</p>\n",
       "</div>"
      ],
      "text/plain": [
       "       ID  Age  Work_Status  Monthly_income\n",
       "0    1000   20            0             380\n",
       "1    1001   18            0             210\n",
       "2    1002   21            0             180\n",
       "3    1003   21            0             190\n",
       "4    1004   18            0             250\n",
       "..    ...  ...          ...             ...\n",
       "196  1196   19            0             190\n",
       "197  1197   19            0             210\n",
       "198  1198   19            0             320\n",
       "199  1199   18            0             180\n",
       "200  1200   22            1            1350\n",
       "\n",
       "[201 rows x 4 columns]"
      ]
     },
     "execution_count": 11,
     "metadata": {},
     "output_type": "execute_result"
    }
   ],
   "source": [
    "#removing column of index[4], cz the non-null count = 0 using iloc\n",
    "df = df.iloc[:,0:4 ]\n",
    "df"
   ]
  },
  {
   "cell_type": "code",
   "execution_count": 12,
   "id": "e643cc10",
   "metadata": {},
   "outputs": [
    {
     "data": {
      "text/html": [
       "<div>\n",
       "<style scoped>\n",
       "    .dataframe tbody tr th:only-of-type {\n",
       "        vertical-align: middle;\n",
       "    }\n",
       "\n",
       "    .dataframe tbody tr th {\n",
       "        vertical-align: top;\n",
       "    }\n",
       "\n",
       "    .dataframe thead th {\n",
       "        text-align: right;\n",
       "    }\n",
       "</style>\n",
       "<table border=\"1\" class=\"dataframe\">\n",
       "  <thead>\n",
       "    <tr style=\"text-align: right;\">\n",
       "      <th></th>\n",
       "      <th>ID</th>\n",
       "      <th>Age</th>\n",
       "      <th>Work_Status</th>\n",
       "      <th>Monthly_income</th>\n",
       "    </tr>\n",
       "  </thead>\n",
       "  <tbody>\n",
       "    <tr>\n",
       "      <th>count</th>\n",
       "      <td>201.00</td>\n",
       "      <td>201.00</td>\n",
       "      <td>201.00</td>\n",
       "      <td>201.00</td>\n",
       "    </tr>\n",
       "    <tr>\n",
       "      <th>mean</th>\n",
       "      <td>1100.00</td>\n",
       "      <td>28.90</td>\n",
       "      <td>0.45</td>\n",
       "      <td>1143.03</td>\n",
       "    </tr>\n",
       "    <tr>\n",
       "      <th>std</th>\n",
       "      <td>58.17</td>\n",
       "      <td>11.63</td>\n",
       "      <td>0.50</td>\n",
       "      <td>1180.37</td>\n",
       "    </tr>\n",
       "    <tr>\n",
       "      <th>min</th>\n",
       "      <td>1000.00</td>\n",
       "      <td>18.00</td>\n",
       "      <td>0.00</td>\n",
       "      <td>100.00</td>\n",
       "    </tr>\n",
       "    <tr>\n",
       "      <th>25%</th>\n",
       "      <td>1050.00</td>\n",
       "      <td>20.00</td>\n",
       "      <td>0.00</td>\n",
       "      <td>210.00</td>\n",
       "    </tr>\n",
       "    <tr>\n",
       "      <th>50%</th>\n",
       "      <td>1100.00</td>\n",
       "      <td>23.00</td>\n",
       "      <td>0.00</td>\n",
       "      <td>360.00</td>\n",
       "    </tr>\n",
       "    <tr>\n",
       "      <th>75%</th>\n",
       "      <td>1150.00</td>\n",
       "      <td>36.00</td>\n",
       "      <td>1.00</td>\n",
       "      <td>1970.00</td>\n",
       "    </tr>\n",
       "    <tr>\n",
       "      <th>max</th>\n",
       "      <td>1200.00</td>\n",
       "      <td>60.00</td>\n",
       "      <td>1.00</td>\n",
       "      <td>3960.00</td>\n",
       "    </tr>\n",
       "  </tbody>\n",
       "</table>\n",
       "</div>"
      ],
      "text/plain": [
       "            ID     Age  Work_Status  Monthly_income\n",
       "count   201.00  201.00       201.00          201.00\n",
       "mean   1100.00   28.90         0.45         1143.03\n",
       "std      58.17   11.63         0.50         1180.37\n",
       "min    1000.00   18.00         0.00          100.00\n",
       "25%    1050.00   20.00         0.00          210.00\n",
       "50%    1100.00   23.00         0.00          360.00\n",
       "75%    1150.00   36.00         1.00         1970.00\n",
       "max    1200.00   60.00         1.00         3960.00"
      ]
     },
     "execution_count": 12,
     "metadata": {},
     "output_type": "execute_result"
    }
   ],
   "source": [
    "df.describe()"
   ]
  },
  {
   "cell_type": "markdown",
   "id": "be098cb8",
   "metadata": {},
   "source": [
    "## The bank asked for : Analysis for Age<25"
   ]
  },
  {
   "cell_type": "code",
   "execution_count": 13,
   "id": "a36ff4b4",
   "metadata": {},
   "outputs": [
    {
     "data": {
      "text/html": [
       "<div>\n",
       "<style scoped>\n",
       "    .dataframe tbody tr th:only-of-type {\n",
       "        vertical-align: middle;\n",
       "    }\n",
       "\n",
       "    .dataframe tbody tr th {\n",
       "        vertical-align: top;\n",
       "    }\n",
       "\n",
       "    .dataframe thead th {\n",
       "        text-align: right;\n",
       "    }\n",
       "</style>\n",
       "<table border=\"1\" class=\"dataframe\">\n",
       "  <thead>\n",
       "    <tr style=\"text-align: right;\">\n",
       "      <th></th>\n",
       "      <th>ID</th>\n",
       "      <th>Age</th>\n",
       "      <th>Work_Status</th>\n",
       "      <th>Monthly_income</th>\n",
       "    </tr>\n",
       "  </thead>\n",
       "  <tbody>\n",
       "    <tr>\n",
       "      <th>0</th>\n",
       "      <td>1000</td>\n",
       "      <td>20</td>\n",
       "      <td>0</td>\n",
       "      <td>380</td>\n",
       "    </tr>\n",
       "    <tr>\n",
       "      <th>1</th>\n",
       "      <td>1001</td>\n",
       "      <td>18</td>\n",
       "      <td>0</td>\n",
       "      <td>210</td>\n",
       "    </tr>\n",
       "    <tr>\n",
       "      <th>2</th>\n",
       "      <td>1002</td>\n",
       "      <td>21</td>\n",
       "      <td>0</td>\n",
       "      <td>180</td>\n",
       "    </tr>\n",
       "    <tr>\n",
       "      <th>3</th>\n",
       "      <td>1003</td>\n",
       "      <td>21</td>\n",
       "      <td>0</td>\n",
       "      <td>190</td>\n",
       "    </tr>\n",
       "    <tr>\n",
       "      <th>4</th>\n",
       "      <td>1004</td>\n",
       "      <td>18</td>\n",
       "      <td>0</td>\n",
       "      <td>250</td>\n",
       "    </tr>\n",
       "  </tbody>\n",
       "</table>\n",
       "</div>"
      ],
      "text/plain": [
       "     ID  Age  Work_Status  Monthly_income\n",
       "0  1000   20            0             380\n",
       "1  1001   18            0             210\n",
       "2  1002   21            0             180\n",
       "3  1003   21            0             190\n",
       "4  1004   18            0             250"
      ]
     },
     "execution_count": 13,
     "metadata": {},
     "output_type": "execute_result"
    }
   ],
   "source": [
    "#filter the data\n",
    "df_25 = df[df['Age'] < 25]\n",
    "df_25.head()"
   ]
  },
  {
   "cell_type": "code",
   "execution_count": 14,
   "id": "2e5782fb",
   "metadata": {},
   "outputs": [
    {
     "data": {
      "text/plain": [
       "<AxesSubplot:xlabel='Age', ylabel='count'>"
      ]
     },
     "execution_count": 14,
     "metadata": {},
     "output_type": "execute_result"
    },
    {
     "data": {
      "image/png": "[encoded data removed]",
      "text/plain": [
       "<Figure size 432x288 with 1 Axes>"
      ]
     },
     "metadata": {
      "needs_background": "light"
     },
     "output_type": "display_data"
    }
   ],
   "source": [
    "sns.countplot(x=\"Age\", data=df_25, color = \"crimson\", orient=\"v\")"
   ]
  },
  {
   "cell_type": "code",
   "execution_count": 26,
   "id": "e4e9f573",
   "metadata": {},
   "outputs": [
    {
     "name": "stdout",
     "output_type": "stream",
     "text": [
      "The Mean Monthly income of Unemployed customers 234.44 $\n",
      "The Mean Monthly income of employed customers 1252.5 $\n"
     ]
    },
    {
     "data": {
      "text/plain": [
       "<AxesSubplot:>"
      ]
     },
     "execution_count": 26,
     "metadata": {},
     "output_type": "execute_result"
    },
    {
     "data": {
      "image/png": "[encoded data removed]",
      "text/plain": [
       "<Figure size 432x288 with 1 Axes>"
      ]
     },
     "metadata": {
      "needs_background": "light"
     },
     "output_type": "display_data"
    }
   ],
   "source": [
    "a = df_25[df_25['Work_Status'] == 0]['Monthly_income'].mean().round(2)\n",
    "b = df_25[df_25['Work_Status'] == 1]['Monthly_income'].mean()\n",
    "print(\"The Mean Monthly income of Unemployed customers\",a,\"$\")\n",
    "print(\"The Mean Monthly income of employed customers\",b, \"$\")\n",
    "\n",
    "\n",
    "index1 = [\"Unemployed\", 'Employed']\n",
    "MMI = [a,b]\n",
    "df1 = pd.DataFrame({'Mean Monthly Income': MMI}, index=index1)\n",
    "df1.plot.bar(rot=0)\n"
   ]
  },
  {
   "cell_type": "code",
   "execution_count": 27,
   "id": "9ec483c6",
   "metadata": {},
   "outputs": [
    {
     "name": "stdout",
     "output_type": "stream",
     "text": [
      "The sum Monthly income of Unemployed customers 23210 $\n",
      "The sum Monthly income of employed customers 20040 $\n"
     ]
    },
    {
     "data": {
      "text/plain": [
       "<AxesSubplot:>"
      ]
     },
     "execution_count": 27,
     "metadata": {},
     "output_type": "execute_result"
    },
    {
     "data": {
      "image/png": "[encoded data removed]",
      "text/plain": [
       "<Figure size 432x288 with 1 Axes>"
      ]
     },
     "metadata": {
      "needs_background": "light"
     },
     "output_type": "display_data"
    }
   ],
   "source": [
    "x = df_25[df_25['Work_Status'] == 0]['Monthly_income'].sum()\n",
    "y = df_25[df_25['Work_Status'] == 1]['Monthly_income'].sum()\n",
    "print(\"The sum Monthly income of Unemployed customers\",x,\"$\")\n",
    "print(\"The sum Monthly income of employed customers\",y, \"$\")\n",
    "\n",
    "\n",
    "\n",
    "index2 = [\"Unemployed\", 'Employed']\n",
    "SMI = [x,y]\n",
    "df2 = pd.DataFrame({'Sum Monthly Income': SMI}, index=index2)\n",
    "df2.plot.bar(rot=0, color={\"Sum Monthly Income\": \"green\"})\n"
   ]
  },
  {
   "cell_type": "code",
   "execution_count": 28,
   "id": "bd5e5bcb",
   "metadata": {},
   "outputs": [
    {
     "name": "stdout",
     "output_type": "stream",
     "text": [
      "The total number of unemployed customers is 99\n",
      "The total number of employed customers is 16\n"
     ]
    },
    {
     "data": {
      "text/plain": [
       "<AxesSubplot:>"
      ]
     },
     "execution_count": 28,
     "metadata": {},
     "output_type": "execute_result"
    },
    {
     "data": {
      "image/png": "[encoded data removed]",
      "text/plain": [
       "<Figure size 432x288 with 1 Axes>"
      ]
     },
     "metadata": {
      "needs_background": "light"
     },
     "output_type": "display_data"
    }
   ],
   "source": [
    "c = df_25[df_25['Work_Status']==0].shape[0]\n",
    "print(\"The total number of unemployed customers is\",c)\n",
    "\n",
    "e = df_25[df_25['Work_Status']==1].shape[0]\n",
    "print(\"The total number of employed customers is\",e)\n",
    "\n",
    "\n",
    "index3 = [\"Unemployed\", 'Employed']\n",
    "TN = [c,e]\n",
    "df3 = pd.DataFrame({'Total Number': TN}, index=index3)\n",
    "df3.plot.bar(rot=0, color={\"Total Number\": \"purple\"})\n"
   ]
  },
  {
   "cell_type": "code",
   "execution_count": 29,
   "id": "ae7812ad",
   "metadata": {},
   "outputs": [
    {
     "name": "stdout",
     "output_type": "stream",
     "text": [
      "The ID of those 16 target customers: \n",
      "1007\n",
      "1011\n",
      "1012\n",
      "1021\n",
      "1040\n",
      "1042\n",
      "1051\n",
      "1054\n",
      "1067\n",
      "1070\n",
      "1173\n",
      "1174\n",
      "1184\n",
      "1192\n",
      "1194\n",
      "1200\n"
     ]
    }
   ],
   "source": [
    "# based on the above numbers, it is better to target 16 customers who are employed, each with 1252$ as average income\n",
    "# here is a list of their ID \n",
    "d = df_25[df_25['Work_Status']==1]['ID'].sort_values(ascending = True)\n",
    "print(\"The ID of those 16 target customers: \")\n",
    "for i in d:\n",
    "    print(i)"
   ]
  },
  {
   "cell_type": "markdown",
   "id": "e0e46011",
   "metadata": {},
   "source": [
    "## If The bank would increase the age boundary : Analysis for Age<30"
   ]
  },
  {
   "cell_type": "code",
   "execution_count": 19,
   "id": "fbf4de48",
   "metadata": {},
   "outputs": [
    {
     "data": {
      "text/html": [
       "<div>\n",
       "<style scoped>\n",
       "    .dataframe tbody tr th:only-of-type {\n",
       "        vertical-align: middle;\n",
       "    }\n",
       "\n",
       "    .dataframe tbody tr th {\n",
       "        vertical-align: top;\n",
       "    }\n",
       "\n",
       "    .dataframe thead th {\n",
       "        text-align: right;\n",
       "    }\n",
       "</style>\n",
       "<table border=\"1\" class=\"dataframe\">\n",
       "  <thead>\n",
       "    <tr style=\"text-align: right;\">\n",
       "      <th></th>\n",
       "      <th>ID</th>\n",
       "      <th>Age</th>\n",
       "      <th>Work_Status</th>\n",
       "      <th>Monthly_income</th>\n",
       "    </tr>\n",
       "  </thead>\n",
       "  <tbody>\n",
       "    <tr>\n",
       "      <th>0</th>\n",
       "      <td>1000</td>\n",
       "      <td>20</td>\n",
       "      <td>0</td>\n",
       "      <td>380</td>\n",
       "    </tr>\n",
       "    <tr>\n",
       "      <th>1</th>\n",
       "      <td>1001</td>\n",
       "      <td>18</td>\n",
       "      <td>0</td>\n",
       "      <td>210</td>\n",
       "    </tr>\n",
       "    <tr>\n",
       "      <th>2</th>\n",
       "      <td>1002</td>\n",
       "      <td>21</td>\n",
       "      <td>0</td>\n",
       "      <td>180</td>\n",
       "    </tr>\n",
       "    <tr>\n",
       "      <th>3</th>\n",
       "      <td>1003</td>\n",
       "      <td>21</td>\n",
       "      <td>0</td>\n",
       "      <td>190</td>\n",
       "    </tr>\n",
       "    <tr>\n",
       "      <th>4</th>\n",
       "      <td>1004</td>\n",
       "      <td>18</td>\n",
       "      <td>0</td>\n",
       "      <td>250</td>\n",
       "    </tr>\n",
       "  </tbody>\n",
       "</table>\n",
       "</div>"
      ],
      "text/plain": [
       "     ID  Age  Work_Status  Monthly_income\n",
       "0  1000   20            0             380\n",
       "1  1001   18            0             210\n",
       "2  1002   21            0             180\n",
       "3  1003   21            0             190\n",
       "4  1004   18            0             250"
      ]
     },
     "execution_count": 19,
     "metadata": {},
     "output_type": "execute_result"
    }
   ],
   "source": [
    "#filter the data\n",
    "df_30 = df[df['Age'] < 30]\n",
    "df_30.head()"
   ]
  },
  {
   "cell_type": "code",
   "execution_count": 36,
   "id": "c222debf",
   "metadata": {},
   "outputs": [
    {
     "data": {
      "text/plain": [
       "<AxesSubplot:xlabel='Age', ylabel='count'>"
      ]
     },
     "execution_count": 36,
     "metadata": {},
     "output_type": "execute_result"
    },
    {
     "data": {
      "image/png": "[encoded data removed]",
      "text/plain": [
       "<Figure size 432x288 with 1 Axes>"
      ]
     },
     "metadata": {
      "needs_background": "light"
     },
     "output_type": "display_data"
    }
   ],
   "source": [
    "sns.countplot(x=\"Age\", data=df_30, color = \"crimson\", orient=\"v\")"
   ]
  },
  {
   "cell_type": "code",
   "execution_count": 20,
   "id": "08c4a378",
   "metadata": {},
   "outputs": [
    {
     "name": "stdout",
     "output_type": "stream",
     "text": [
      "The Mean Monthly income of Unemployed customers 237.02 $\n",
      "The Mean Monthly income of employed customers 1932.41 $\n"
     ]
    },
    {
     "data": {
      "text/plain": [
       "<AxesSubplot:>"
      ]
     },
     "execution_count": 20,
     "metadata": {},
     "output_type": "execute_result"
    },
    {
     "data": {
      "image/png": "[encoded data removed]",
      "text/plain": [
       "<Figure size 432x288 with 1 Axes>"
      ]
     },
     "metadata": {
      "needs_background": "light"
     },
     "output_type": "display_data"
    }
   ],
   "source": [
    "a = df_30[df_30['Work_Status'] == 0]['Monthly_income'].mean().round(2)\n",
    "b = df_30[df_30['Work_Status'] == 1]['Monthly_income'].mean().round(2)\n",
    "print(\"The Mean Monthly income of Unemployed customers\",a,\"$\")\n",
    "print(\"The Mean Monthly income of employed customers\",b, \"$\")\n",
    "\n",
    "index1 = [\"Unemployed\", 'Employed']\n",
    "MMI = [a,b]\n",
    "df1 = pd.DataFrame({'Mean Monthly Income': MMI}, index=index1)\n",
    "df1.plot.bar(rot=0)"
   ]
  },
  {
   "cell_type": "code",
   "execution_count": 21,
   "id": "28c9366f",
   "metadata": {},
   "outputs": [
    {
     "name": "stdout",
     "output_type": "stream",
     "text": [
      "The sum Monthly income of Unemployed customers 24650 $\n",
      "The sum Monthly income of employed customers 56040 $\n"
     ]
    },
    {
     "data": {
      "text/plain": [
       "<AxesSubplot:>"
      ]
     },
     "execution_count": 21,
     "metadata": {},
     "output_type": "execute_result"
    },
    {
     "data": {
      "image/png": "[encoded data removed]",
      "text/plain": [
       "<Figure size 432x288 with 1 Axes>"
      ]
     },
     "metadata": {
      "needs_background": "light"
     },
     "output_type": "display_data"
    }
   ],
   "source": [
    "x = df_30[df_30['Work_Status'] == 0]['Monthly_income'].sum()\n",
    "y = df_30[df_30['Work_Status'] == 1]['Monthly_income'].sum()\n",
    "print(\"The sum Monthly income of Unemployed customers\",x,\"$\")\n",
    "print(\"The sum Monthly income of employed customers\",y, \"$\")\n",
    "\n",
    "\n",
    "index2 = [\"Unemployed\", 'Employed']\n",
    "SMI = [x,y]\n",
    "df2 = pd.DataFrame({'Sum Monthly Income': SMI}, index=index2)\n",
    "df2.plot.bar(rot=0, color={\"Sum Monthly Income\": \"green\"})\n"
   ]
  },
  {
   "cell_type": "code",
   "execution_count": 22,
   "id": "a47668b1",
   "metadata": {},
   "outputs": [
    {
     "name": "stdout",
     "output_type": "stream",
     "text": [
      "The total number of unemployed customers is 104\n",
      "The total number of employed customers is 29\n"
     ]
    },
    {
     "data": {
      "text/plain": [
       "<AxesSubplot:>"
      ]
     },
     "execution_count": 22,
     "metadata": {},
     "output_type": "execute_result"
    },
    {
     "data": {
      "image/png": "[encoded data removed]",
      "text/plain": [
       "<Figure size 432x288 with 1 Axes>"
      ]
     },
     "metadata": {
      "needs_background": "light"
     },
     "output_type": "display_data"
    }
   ],
   "source": [
    "j = df_30[df_30['Work_Status']==0].shape[0]\n",
    "print(\"The total number of unemployed customers is\",j)\n",
    "\n",
    "k = df_30[df_30['Work_Status']==1].shape[0]\n",
    "print(\"The total number of employed customers is\",k)\n",
    "\n",
    "\n",
    "index3 = [\"Unemployed\", 'Employed']\n",
    "TN = [j,k]\n",
    "df3 = pd.DataFrame({'Total Number': TN}, index=index3)\n",
    "df3.plot.bar(rot=0, color={\"Total Number\": \"purple\"})\n"
   ]
  },
  {
   "cell_type": "code",
   "execution_count": 30,
   "id": "5d6b6579",
   "metadata": {},
   "outputs": [
    {
     "name": "stdout",
     "output_type": "stream",
     "text": [
      "The ID of additional potential target customers: \n",
      "1108\n",
      "1110\n",
      "1111\n",
      "1112\n",
      "1113\n",
      "1114\n",
      "1116\n",
      "1117\n",
      "1118\n",
      "1125\n",
      "1126\n",
      "1128\n",
      "1140\n"
     ]
    }
   ],
   "source": [
    "# based on the above numbers, it is better to target 29 customers instead of 16 who are employed, \n",
    "#each with 1932$ instead of 1252$ as average income\n",
    "# here is a list of their ID \n",
    "f = df_30[df_30['Work_Status']==1]['ID'].sort_values(ascending = True)\n",
    "print(\"The ID of additional potential target customers: \")\n",
    "for i in f:\n",
    "    if i in d.values:\n",
    "        continue\n",
    "    else:\n",
    "        print(i)\n"
   ]
  },
  {
   "cell_type": "code",
   "execution_count": 37,
   "id": "2a6aff4f",
   "metadata": {},
   "outputs": [
    {
     "name": "stdout",
     "output_type": "stream",
     "text": [
      "There are 18 people with their age between 25 and 30\n"
     ]
    }
   ],
   "source": [
    "diff = (j+k)-(c +e)\n",
    "print(\"There are\",diff, \"people with their age between 25 and 30\")\n",
    "print(\"out of those\")"
   ]
  },
  {
   "cell_type": "code",
   "execution_count": null,
   "id": "49535006",
   "metadata": {},
   "outputs": [],
   "source": []
  }
 ],
 "metadata": {
  "kernelspec": {
   "display_name": "Python 3",
   "language": "python",
   "name": "python3"
  },
  "language_info": {
   "codemirror_mode": {
    "name": "ipython",
    "version": 3
   },
   "file_extension": ".py",
   "mimetype": "text/x-python",
   "name": "python",
   "nbconvert_exporter": "python",
   "pygments_lexer": "ipython3",
   "version": "3.9.5"
  }
 },
 "nbformat": 4,
 "nbformat_minor": 5
}
