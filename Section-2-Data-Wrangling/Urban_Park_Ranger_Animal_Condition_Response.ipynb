{
  "nbformat": 4,
  "nbformat_minor": 0,
  "metadata": {
    "colab": {
      "name": "Urban Park Ranger Animal Condition Response.ipynb",
      "provenance": [],
      "collapsed_sections": []
    },
    "kernelspec": {
      "name": "python3",
      "display_name": "Python 3"
    },
    "language_info": {
      "name": "python"
    }
  },
  "cells": [
    {
      "cell_type": "code",
      "metadata": {
        "id": "kYUn4NTr9OA4"
      },
      "source": [
        "#importing essential libraries\n",
        "import pandas as pd\n",
        "import numpy as np\n",
        "import datetime as dt"
      ],
      "execution_count": null,
      "outputs": []
    },
    {
      "cell_type": "code",
      "metadata": {
        "id": "-BOxUJEgAjOl"
      },
      "source": [
        "#importing our data\n",
        "df = pd.read_csv('https://query.data.world/s/dkx73ip6rrpozl7lzcdvqyunqirp5u')"
      ],
      "execution_count": null,
      "outputs": []
    },
    {
      "cell_type": "code",
      "metadata": {
        "colab": {
          "base_uri": "https://localhost:8080/",
          "height": 341
        },
        "id": "KkkVJY0W9h3_",
        "outputId": "8b22ebf4-ee2f-4b60-a7ba-3cd0908a8f6e"
      },
      "source": [
        "#sneak peak \n",
        "df.head(2)"
      ],
      "execution_count": null,
      "outputs": [
        {
          "output_type": "execute_result",
          "data": {
            "text/html": [
              "<div>\n",
              "<style scoped>\n",
              "    .dataframe tbody tr th:only-of-type {\n",
              "        vertical-align: middle;\n",
              "    }\n",
              "\n",
              "    .dataframe tbody tr th {\n",
              "        vertical-align: top;\n",
              "    }\n",
              "\n",
              "    .dataframe thead th {\n",
              "        text-align: right;\n",
              "    }\n",
              "</style>\n",
              "<table border=\"1\" class=\"dataframe\">\n",
              "  <thead>\n",
              "    <tr style=\"text-align: right;\">\n",
              "      <th></th>\n",
              "      <th>Date and Time of initial call</th>\n",
              "      <th>Date and time of Ranger response</th>\n",
              "      <th>Borough</th>\n",
              "      <th>Property</th>\n",
              "      <th>Location</th>\n",
              "      <th>Species Description</th>\n",
              "      <th>Call Source</th>\n",
              "      <th>Species Status</th>\n",
              "      <th>Animal Condition</th>\n",
              "      <th>Duration of Response</th>\n",
              "      <th>Age</th>\n",
              "      <th>Animal Class</th>\n",
              "      <th>311SR Number</th>\n",
              "      <th>Final Ranger Action</th>\n",
              "      <th># of Animals</th>\n",
              "      <th>PEP Response</th>\n",
              "      <th>Animal Monitored</th>\n",
              "      <th>Rehabilitator</th>\n",
              "      <th>Hours spent monitoring</th>\n",
              "      <th>Police Response</th>\n",
              "      <th>ESU Response</th>\n",
              "      <th>ACC Intake Number</th>\n",
              "    </tr>\n",
              "  </thead>\n",
              "  <tbody>\n",
              "    <tr>\n",
              "      <th>0</th>\n",
              "      <td>09/24/2018 11:00:00 AM</td>\n",
              "      <td>09/24/2018 11:30:00 AM</td>\n",
              "      <td>Queens</td>\n",
              "      <td>Cunningham Park</td>\n",
              "      <td>Comfort Station Near 73rd Avenue and Francis L...</td>\n",
              "      <td>Chicken</td>\n",
              "      <td>Employee</td>\n",
              "      <td>Domestic</td>\n",
              "      <td>Injured</td>\n",
              "      <td>1.0</td>\n",
              "      <td>Juvenile</td>\n",
              "      <td>Domestic;#Birds</td>\n",
              "      <td>1-1-1619568601</td>\n",
              "      <td>ACC</td>\n",
              "      <td>1.0</td>\n",
              "      <td>False</td>\n",
              "      <td>False</td>\n",
              "      <td>NaN</td>\n",
              "      <td>NaN</td>\n",
              "      <td>False</td>\n",
              "      <td>False</td>\n",
              "      <td>42420</td>\n",
              "    </tr>\n",
              "    <tr>\n",
              "      <th>1</th>\n",
              "      <td>09/23/2018 12:45:00 PM</td>\n",
              "      <td>09/23/2018 12:50:00 PM</td>\n",
              "      <td>Queens</td>\n",
              "      <td>Southern Stables</td>\n",
              "      <td>Behind the barn</td>\n",
              "      <td>Raccoon</td>\n",
              "      <td>Central</td>\n",
              "      <td>Native</td>\n",
              "      <td>NaN</td>\n",
              "      <td>2.0</td>\n",
              "      <td>Adult</td>\n",
              "      <td>Small Mammals-RVS</td>\n",
              "      <td>NaN</td>\n",
              "      <td>Unfounded</td>\n",
              "      <td>0.0</td>\n",
              "      <td>False</td>\n",
              "      <td>False</td>\n",
              "      <td>NaN</td>\n",
              "      <td>NaN</td>\n",
              "      <td>False</td>\n",
              "      <td>False</td>\n",
              "      <td>NaN</td>\n",
              "    </tr>\n",
              "  </tbody>\n",
              "</table>\n",
              "</div>"
            ],
            "text/plain": [
              "  Date and Time of initial call  ... ACC Intake Number\n",
              "0        09/24/2018 11:00:00 AM  ...             42420\n",
              "1        09/23/2018 12:45:00 PM  ...               NaN\n",
              "\n",
              "[2 rows x 22 columns]"
            ]
          },
          "metadata": {
            "tags": []
          },
          "execution_count": 3
        }
      ]
    },
    {
      "cell_type": "code",
      "metadata": {
        "colab": {
          "base_uri": "https://localhost:8080/"
        },
        "id": "kldBZcIYiG8r",
        "outputId": "c7c57e87-9d61-472e-a098-54014a7e6df9"
      },
      "source": [
        "#rows and columns\n",
        "df.shape"
      ],
      "execution_count": null,
      "outputs": [
        {
          "output_type": "execute_result",
          "data": {
            "text/plain": [
              "(422, 22)"
            ]
          },
          "metadata": {
            "tags": []
          },
          "execution_count": 4
        }
      ]
    },
    {
      "cell_type": "code",
      "metadata": {
        "colab": {
          "base_uri": "https://localhost:8080/"
        },
        "id": "i7R-ygUf9kL4",
        "outputId": "35e92ff1-bd98-4c17-e67d-bddbdb39b42d"
      },
      "source": [
        "#finding the types of our datasets\n",
        "df.dtypes"
      ],
      "execution_count": null,
      "outputs": [
        {
          "output_type": "execute_result",
          "data": {
            "text/plain": [
              "Date and Time of initial call        object\n",
              "Date and time of Ranger response     object\n",
              "Borough                              object\n",
              "Property                             object\n",
              "Location                             object\n",
              "Species Description                  object\n",
              "Call Source                          object\n",
              "Species Status                       object\n",
              "Animal Condition                     object\n",
              "Duration of Response                float64\n",
              "Age                                  object\n",
              "Animal Class                         object\n",
              "311SR Number                         object\n",
              "Final Ranger Action                  object\n",
              "# of Animals                        float64\n",
              "PEP Response                         object\n",
              "Animal Monitored                     object\n",
              "Rehabilitator                        object\n",
              "Hours spent monitoring              float64\n",
              "Police Response                      object\n",
              "ESU Response                           bool\n",
              "ACC Intake Number                    object\n",
              "dtype: object"
            ]
          },
          "metadata": {
            "tags": []
          },
          "execution_count": 5
        }
      ]
    },
    {
      "cell_type": "code",
      "metadata": {
        "colab": {
          "base_uri": "https://localhost:8080/"
        },
        "id": "lgeeZhTmraAd",
        "outputId": "55423e29-5ca5-4d81-82b9-5d77153b021e"
      },
      "source": [
        "df.isnull().sum()"
      ],
      "execution_count": null,
      "outputs": [
        {
          "output_type": "execute_result",
          "data": {
            "text/plain": [
              "Date and Time of initial call         0\n",
              "Date and time of Ranger response      0\n",
              "Borough                               0\n",
              "Property                              0\n",
              "Location                             66\n",
              "Species Description                   4\n",
              "Call Source                           0\n",
              "Species Status                        4\n",
              "Animal Condition                     84\n",
              "Duration of Response                  0\n",
              "Age                                   0\n",
              "Animal Class                          0\n",
              "311SR Number                        168\n",
              "Final Ranger Action                   0\n",
              "# of Animals                          8\n",
              "PEP Response                          2\n",
              "Animal Monitored                      2\n",
              "Rehabilitator                       398\n",
              "Hours spent monitoring              366\n",
              "Police Response                       2\n",
              "ESU Response                          0\n",
              "ACC Intake Number                   238\n",
              "dtype: int64"
            ]
          },
          "metadata": {
            "tags": []
          },
          "execution_count": 6
        }
      ]
    },
    {
      "cell_type": "code",
      "metadata": {
        "id": "PGAwczfpijdc"
      },
      "source": [
        "#these 2 columns contain a lot of NAN values\n",
        "df.drop(columns=['Rehabilitator','Hours spent monitoring'], inplace= True)"
      ],
      "execution_count": null,
      "outputs": []
    },
    {
      "cell_type": "code",
      "metadata": {
        "id": "d2cJddDK-zeW",
        "colab": {
          "base_uri": "https://localhost:8080/"
        },
        "outputId": "bd2701d1-9a2e-433d-9129-6faf7796449c"
      },
      "source": [
        "df.columns"
      ],
      "execution_count": null,
      "outputs": [
        {
          "output_type": "execute_result",
          "data": {
            "text/plain": [
              "Index(['Date and Time of initial call', 'Date and time of Ranger response',\n",
              "       'Borough', 'Property', 'Location', 'Species Description', 'Call Source',\n",
              "       'Species Status', 'Animal Condition', 'Duration of Response', 'Age',\n",
              "       'Animal Class', '311SR Number', 'Final Ranger Action', '# of Animals',\n",
              "       'PEP Response', 'Animal Monitored', 'Police Response', 'ESU Response',\n",
              "       'ACC Intake Number'],\n",
              "      dtype='object')"
            ]
          },
          "metadata": {
            "tags": []
          },
          "execution_count": 8
        }
      ]
    },
    {
      "cell_type": "markdown",
      "metadata": {
        "id": "eTczXQLT8pzV"
      },
      "source": [
        "#Cleaning the Variables"
      ]
    },
    {
      "cell_type": "code",
      "metadata": {
        "id": "nugaXqu6_KvQ",
        "colab": {
          "base_uri": "https://localhost:8080/"
        },
        "outputId": "cfa9be5e-d46a-4239-c403-db7a4bb2584f"
      },
      "source": [
        "df['Date and Time of initial call']"
      ],
      "execution_count": null,
      "outputs": [
        {
          "output_type": "execute_result",
          "data": {
            "text/plain": [
              "0      09/24/2018 11:00:00 AM\n",
              "1      09/23/2018 12:45:00 PM\n",
              "2      09/21/2018 06:30:00 PM\n",
              "3      09/21/2018 09:00:00 AM\n",
              "4      09/20/2018 02:00:00 PM\n",
              "                ...          \n",
              "417    06/05/2018 12:00:00 AM\n",
              "418    06/01/2018 12:00:00 PM\n",
              "419    05/16/2018 09:00:00 AM\n",
              "420    05/02/2018 09:30:00 AM\n",
              "421    05/07/2018 01:30:00 PM\n",
              "Name: Date and Time of initial call, Length: 422, dtype: object"
            ]
          },
          "metadata": {
            "tags": []
          },
          "execution_count": 9
        }
      ]
    },
    {
      "cell_type": "code",
      "metadata": {
        "id": "qd_sGnbof3Lu",
        "colab": {
          "base_uri": "https://localhost:8080/"
        },
        "outputId": "a9940f78-6eec-4be4-83ef-1f7d853f8b46"
      },
      "source": [
        "df['Date and Time of initial call'] = pd.to_datetime(df['Date and Time of initial call'], format='%m/%d/%Y %I:%M:%S %p')\n",
        "df['Date and time of Ranger response'] = pd.to_datetime(df['Date and time of Ranger response'], format='%m/%d/%Y %I:%M:%S %p')\n",
        "df['Date and Time of initial call']"
      ],
      "execution_count": null,
      "outputs": [
        {
          "output_type": "execute_result",
          "data": {
            "text/plain": [
              "0     2018-09-24 11:00:00\n",
              "1     2018-09-23 12:45:00\n",
              "2     2018-09-21 18:30:00\n",
              "3     2018-09-21 09:00:00\n",
              "4     2018-09-20 14:00:00\n",
              "              ...        \n",
              "417   2018-06-05 00:00:00\n",
              "418   2018-06-01 12:00:00\n",
              "419   2018-05-16 09:00:00\n",
              "420   2018-05-02 09:30:00\n",
              "421   2018-05-07 13:30:00\n",
              "Name: Date and Time of initial call, Length: 422, dtype: datetime64[ns]"
            ]
          },
          "metadata": {
            "tags": []
          },
          "execution_count": 10
        }
      ]
    },
    {
      "cell_type": "code",
      "metadata": {
        "colab": {
          "base_uri": "https://localhost:8080/"
        },
        "id": "qfu6S_ZnhSyu",
        "outputId": "a9cbf5b1-9d66-47fd-d9fc-d86033228859"
      },
      "source": [
        "df['Borough'].value_counts()"
      ],
      "execution_count": null,
      "outputs": [
        {
          "output_type": "execute_result",
          "data": {
            "text/plain": [
              "Manhattan        330\n",
              "Queens            38\n",
              "Staten Island     19\n",
              "Brooklyn          18\n",
              "Bronx             17\n",
              "Name: Borough, dtype: int64"
            ]
          },
          "metadata": {
            "tags": []
          },
          "execution_count": 11
        }
      ]
    },
    {
      "cell_type": "code",
      "metadata": {
        "colab": {
          "base_uri": "https://localhost:8080/"
        },
        "id": "9gz4htxth1yI",
        "outputId": "e8e60d75-3650-4a85-ddc6-c1726e2786f4"
      },
      "source": [
        "A = list(df['Property'].unique())\n",
        "A.sort()\n",
        "A"
      ],
      "execution_count": null,
      "outputs": [
        {
          "output_type": "execute_result",
          "data": {
            "text/plain": [
              "['Abingdon Square',\n",
              " 'Alley Pond Park',\n",
              " 'Alley Pond Park Tennis Courts Near Court 16',\n",
              " 'Altamont House',\n",
              " 'Astoria Park',\n",
              " 'Baisley Pond Park',\n",
              " 'Battery Park City',\n",
              " 'Bedford Playground',\n",
              " 'Bradys Pond Park',\n",
              " 'Brookville Park',\n",
              " 'Bryant Park',\n",
              " 'Cadman Plaza Park',\n",
              " 'Central  Park',\n",
              " 'Central Park',\n",
              " 'Chelsea Park',\n",
              " 'Churchill School',\n",
              " 'Coffey Park',\n",
              " 'Colonel Charles Young Playground',\n",
              " 'Conference House Park',\n",
              " 'Crotona Park',\n",
              " 'Cunningham Park',\n",
              " 'Evergreen Park',\n",
              " 'Ferry Point Park',\n",
              " 'Flushing Meadows Corona Park',\n",
              " 'Forest Park',\n",
              " 'Fort Greene Park',\n",
              " 'Fort Totten Park',\n",
              " 'Franklin D. Roosevelt Boardwalk and Beach',\n",
              " 'Haffen Park',\n",
              " 'Hester St. Playground',\n",
              " 'Highbridge Recreation Center',\n",
              " 'Hudson River Park',\n",
              " 'Inwood Hill Park',\n",
              " 'James Finley Walk',\n",
              " 'John V. Lindsay East River Park',\n",
              " 'Kissena Corridor Park',\n",
              " 'Magenta Playground',\n",
              " 'Marine Park',\n",
              " 'McCarren Park',\n",
              " 'Mellet Playground',\n",
              " 'Merriam Playground',\n",
              " 'Midland Beach',\n",
              " 'Morningside Park',\n",
              " 'Ocean Breeze Park',\n",
              " 'Ocean Breeze Track & Field Athletic Complex',\n",
              " \"Owl's Head Park\",\n",
              " 'PS 153',\n",
              " 'Pelham Bay Park',\n",
              " 'Playground 103 CIII',\n",
              " 'Prospect Park',\n",
              " \"Randall's Island Park\",\n",
              " 'Riverside Park',\n",
              " 'Rockaway Beach and Boardwalk',\n",
              " 'Sheltering Arms Playground',\n",
              " 'Shore Road Park',\n",
              " 'Socrates Sculpture Park',\n",
              " 'South Beach',\n",
              " 'Southern Stables',\n",
              " 'Space Time Playground',\n",
              " \"St. Michael's Playground\",\n",
              " 'Theodore Roosevelt Park',\n",
              " 'Thomas Jefferson Recreation Center',\n",
              " 'Tompkins Square Park',\n",
              " 'Underhill Playground',\n",
              " 'Van Cortlandt Park',\n",
              " 'Washington Market Park',\n",
              " 'West Harlem Piers',\n",
              " 'Willowbrook Park',\n",
              " \"Wolfe's Pond Park\"]"
            ]
          },
          "metadata": {
            "tags": []
          },
          "execution_count": 12
        }
      ]
    },
    {
      "cell_type": "code",
      "metadata": {
        "id": "62rR3nCDh_uF"
      },
      "source": [
        "df['Property'].replace({'Alley Pond Park Tennis Courts Near Court 16': 'Alley Pond Park', \n",
        "                        'Central  Park': 'Central Park'}, inplace = True)"
      ],
      "execution_count": null,
      "outputs": []
    },
    {
      "cell_type": "code",
      "metadata": {
        "id": "ZFTcbdaoLq8y"
      },
      "source": [
        "df['Species Description'] = df['Species Description'].str.capitalize()"
      ],
      "execution_count": null,
      "outputs": []
    },
    {
      "cell_type": "code",
      "metadata": {
        "colab": {
          "base_uri": "https://localhost:8080/"
        },
        "id": "ohhAc-7pi_Qj",
        "outputId": "8682fbf5-162c-4252-9360-783fa460a8d7"
      },
      "source": [
        "B = list(df['Species Description'].unique())\n",
        "newlist = [x for x in B if pd.isnull(x) == False and x != 'nan']\n",
        "newlist.sort()\n",
        "newlist"
      ],
      "execution_count": null,
      "outputs": [
        {
          "output_type": "execute_result",
          "data": {
            "text/plain": [
              "['2 black back gulls and 1 pigeon',\n",
              " 'American oystercatcher',\n",
              " 'Banded rock pigeon',\n",
              " 'Beagle - dog',\n",
              " 'Bearded dragon',\n",
              " 'Bird of prey',\n",
              " 'Black backed gull',\n",
              " 'Black racer snake',\n",
              " 'Black skimmer',\n",
              " 'Blue jay',\n",
              " 'Canada goose',\n",
              " 'Cat',\n",
              " 'Chicken',\n",
              " \"Cooper's hawk\",\n",
              " 'Coopers hawk',\n",
              " 'Cormorant',\n",
              " 'Crow',\n",
              " 'Deer',\n",
              " 'Dog',\n",
              " 'Dog, yorkshire terrier',\n",
              " 'Double crested cormorant',\n",
              " 'Dutch blue love bird',\n",
              " 'Eastern gray squirrel',\n",
              " 'Gerbil',\n",
              " 'Green heron',\n",
              " 'Gull',\n",
              " 'Herring gull',\n",
              " 'Homing pigeon',\n",
              " 'House sparrow',\n",
              " 'Hummingbird',\n",
              " 'Iguana',\n",
              " 'Infant squirrel',\n",
              " 'Juvenile herring gull',\n",
              " 'Kestrel',\n",
              " 'Kittens',\n",
              " 'Mallard',\n",
              " 'Mallard duck',\n",
              " 'Mallard duckling',\n",
              " 'Mallard ducklings',\n",
              " 'Mourning dove',\n",
              " 'Opossum',\n",
              " 'Painted turtle',\n",
              " 'Peregrine falcon',\n",
              " 'Pet rabbit',\n",
              " 'Pigeon',\n",
              " 'Rabbit',\n",
              " 'Raccoon',\n",
              " 'Raccoons',\n",
              " 'Red bat',\n",
              " 'Red tail',\n",
              " 'Red tailed hawk',\n",
              " 'Red tailed-hawk',\n",
              " 'Red-eared slider',\n",
              " 'Red-eared slider turtle',\n",
              " 'Red-tailed hawk',\n",
              " 'Rock dove',\n",
              " 'Skunk',\n",
              " 'Squirrel',\n",
              " 'Squirrels',\n",
              " 'Swan',\n",
              " 'Turtle',\n",
              " 'White tailed deer',\n",
              " 'White-tailed deer doe']"
            ]
          },
          "metadata": {
            "tags": []
          },
          "execution_count": 15
        }
      ]
    },
    {
      "cell_type": "code",
      "metadata": {
        "id": "k13j5VVWk1Ui"
      },
      "source": [
        "df['Species Description'].replace({'2 black back gulls and 1 pigeon': 'Gull',\n",
        "                                   'Dog, Yorkshire terrier': 'Dog',\n",
        "                                   'Red bat': 'Bat',\n",
        "                                   'Peregrine falcon': 'Falcon',\n",
        "                                   'pet rabbit': 'Rabbit',\n",
        "                                   'Mallard': 'Duck',\n",
        "                                   'Mallard Duck': 'Duck',\n",
        "                                   'Mallard Ducklings': 'Duck',\n",
        "                                   'Mallard duck': 'Duck',\n",
        "                                   'Mallard duckling': 'Duck',\n",
        "                                   'bird of prey': 'Hawk',\n",
        "                                   \"Cooper's hawk\": 'Hawk',\n",
        "                                   'Coopers hawk': 'Hawk',\n",
        "                                   'Red-Tailed Hawk': 'Hawk',\n",
        "                                   'Red-tailed Hawk': 'Hawk',\n",
        "                                   'Red tailed-hawk': 'Hawk',\n",
        "                                   'Red-tailed hawk': 'Hawk',\n",
        "                                   'Red tailed hawk': 'Hawk',\n",
        "                                   'Red tail': 'Hawk',\n",
        "                                   'Red Tailed Hawk': 'Hawk',\n",
        "                                   'Red tailed Hawk': 'Hawk',\n",
        "                                   'Black backed gull': 'Gull',\n",
        "                                   '2 black back gulls and 1 pigeon': 'Gull',\n",
        "                                   'Juvenile Herring Gull': 'Gull',\n",
        "                                   'gull' : 'Gull',\n",
        "                                   'Herring Gull': 'Gull',\n",
        "                                   'Herring gull': 'Gull',\n",
        "                                   'dutch blue love bird': 'Bird',\n",
        "                                   'RACCOON': 'Raccoon',\n",
        "                                   'racoon': 'Raccoon',\n",
        "                                   'raccoon': 'Raccoon',\n",
        "                                   'Raccoons': 'Raccoon',\n",
        "                                   'Racoon': 'Raccoon',\n",
        "                                   'Canada Goose': 'Goose',\n",
        "                                   'Canada goose': 'Goose',\n",
        "                                   'double crested cormorant': 'Cormorant',\n",
        "                                   'Double crested cormorant': 'Cormorant',\n",
        "                                   'White-tailed deer doe': 'Deer',\n",
        "                                   'White Tailed Deer': 'Deer',\n",
        "                                   'Banded Rock Pigeon': 'Pigeon',\n",
        "                                   'Homing Pigeon': 'Pigeon', \n",
        "                                   'Red-eared slider turtle': \"Turtle\",\n",
        "                                   'Red-eared slider': 'Turtle',\n",
        "                                   'Painted turtle': 'Turtle',\n",
        "                                   'Eastern gray squirrel' : 'Squirrel',\n",
        "                                   'Squirrels': 'Squirrel',\n",
        "                                   'Infant Squirrel': 'Squirrel',\n",
        "                                   'Black racer snake': 'Snake',\n",
        "                                   'Mourning dove': 'Dove',\n",
        "                                   'Rock dove': 'Dove',\n",
        "                                   'Beagle - dog': 'Dog',\n",
        "                                   'Dog, yorkshire terrier': 'Dog' }, inplace = True)"
      ],
      "execution_count": null,
      "outputs": []
    },
    {
      "cell_type": "code",
      "metadata": {
        "colab": {
          "base_uri": "https://localhost:8080/"
        },
        "id": "s1rDSiYUn45U",
        "outputId": "3eaf6145-3dc8-4b5d-9191-7ab1d511abc1"
      },
      "source": [
        "df['Species Description'].value_counts().sort_index()\n"
      ],
      "execution_count": null,
      "outputs": [
        {
          "output_type": "execute_result",
          "data": {
            "text/plain": [
              "American oystercatcher      1\n",
              "Banded rock pigeon          1\n",
              "Bat                         1\n",
              "Bearded dragon              1\n",
              "Bird of prey                1\n",
              "Black skimmer               1\n",
              "Blue jay                    1\n",
              "Cat                         2\n",
              "Chicken                     4\n",
              "Cormorant                   5\n",
              "Crow                        1\n",
              "Deer                        3\n",
              "Dog                         3\n",
              "Dove                        4\n",
              "Duck                        6\n",
              "Dutch blue love bird        1\n",
              "Falcon                      2\n",
              "Gerbil                      1\n",
              "Goose                       6\n",
              "Green heron                 1\n",
              "Gull                       12\n",
              "Hawk                       23\n",
              "Homing pigeon               1\n",
              "House sparrow               2\n",
              "Hummingbird                 1\n",
              "Iguana                      1\n",
              "Infant squirrel             1\n",
              "Juvenile herring gull       1\n",
              "Kestrel                     1\n",
              "Kittens                     2\n",
              "Mallard ducklings           1\n",
              "Opossum                     3\n",
              "Pet rabbit                  1\n",
              "Pigeon                      2\n",
              "Rabbit                      1\n",
              "Raccoon                   299\n",
              "Skunk                       2\n",
              "Snake                       1\n",
              "Squirrel                    9\n",
              "Swan                        1\n",
              "Turtle                      6\n",
              "White tailed deer           1\n",
              "Name: Species Description, dtype: int64"
            ]
          },
          "metadata": {
            "tags": []
          },
          "execution_count": 17
        }
      ]
    },
    {
      "cell_type": "code",
      "metadata": {
        "colab": {
          "base_uri": "https://localhost:8080/"
        },
        "id": "Hgqk2C_ROYGy",
        "outputId": "b5b16b15-70cf-4eba-c8cd-55bd30f6b2a2"
      },
      "source": [
        "df['Call Source'].value_counts()"
      ],
      "execution_count": null,
      "outputs": [
        {
          "output_type": "execute_result",
          "data": {
            "text/plain": [
              "Conservancies/\"Friends of\" Groups    194\n",
              "Employee                              93\n",
              "Central                               65\n",
              "Public                                41\n",
              "Other                                 24\n",
              "Observed by Ranger                     5\n",
              "Name: Call Source, dtype: int64"
            ]
          },
          "metadata": {
            "tags": []
          },
          "execution_count": 18
        }
      ]
    },
    {
      "cell_type": "code",
      "metadata": {
        "id": "QquvcMNCyekP",
        "colab": {
          "base_uri": "https://localhost:8080/"
        },
        "outputId": "fda61c37-4cd2-4b39-907f-fc3d3bad2bb9"
      },
      "source": [
        "df['Call Source'].replace({'Conservancies/\"Friends of\" Groups':'Conservancies'}, inplace = True)\n",
        "df['Call Source'].value_counts()"
      ],
      "execution_count": null,
      "outputs": [
        {
          "output_type": "execute_result",
          "data": {
            "text/plain": [
              "Conservancies         194\n",
              "Employee               93\n",
              "Central                65\n",
              "Public                 41\n",
              "Other                  24\n",
              "Observed by Ranger      5\n",
              "Name: Call Source, dtype: int64"
            ]
          },
          "metadata": {
            "tags": []
          },
          "execution_count": 19
        }
      ]
    },
    {
      "cell_type": "code",
      "metadata": {
        "colab": {
          "base_uri": "https://localhost:8080/"
        },
        "id": "Uc6g6uuoN7Rz",
        "outputId": "5d9f90d0-2601-408c-abce-5d174f533a04"
      },
      "source": [
        "df['Species Status'].value_counts()"
      ],
      "execution_count": null,
      "outputs": [
        {
          "output_type": "execute_result",
          "data": {
            "text/plain": [
              "Native      391\n",
              "Domestic     21\n",
              "Exotic        4\n",
              "Invasive      2\n",
              "Name: Species Status, dtype: int64"
            ]
          },
          "metadata": {
            "tags": []
          },
          "execution_count": 20
        }
      ]
    },
    {
      "cell_type": "code",
      "metadata": {
        "id": "YgVtyg7KOhQk"
      },
      "source": [
        "df['Species Status'].replace({'Invasive' : 'Non Native',\n",
        "                              'Exotic':   'Non Native', \n",
        "                              'Domestic': 'Native'}, inplace = True)"
      ],
      "execution_count": null,
      "outputs": []
    },
    {
      "cell_type": "code",
      "metadata": {
        "colab": {
          "base_uri": "https://localhost:8080/"
        },
        "id": "KNidZjx6PCvt",
        "outputId": "ca22c73a-5e4b-4b87-a7ca-5c0d043a7adb"
      },
      "source": [
        "df['Species Status'].value_counts()"
      ],
      "execution_count": null,
      "outputs": [
        {
          "output_type": "execute_result",
          "data": {
            "text/plain": [
              "Native        412\n",
              "Non Native      6\n",
              "Name: Species Status, dtype: int64"
            ]
          },
          "metadata": {
            "tags": []
          },
          "execution_count": 22
        }
      ]
    },
    {
      "cell_type": "code",
      "metadata": {
        "colab": {
          "base_uri": "https://localhost:8080/"
        },
        "id": "AgoHTDTlPFB1",
        "outputId": "15e6feeb-458a-4433-f4d7-c54e355af9c1"
      },
      "source": [
        "df['Animal Condition'].value_counts()"
      ],
      "execution_count": null,
      "outputs": [
        {
          "output_type": "execute_result",
          "data": {
            "text/plain": [
              "Unhealthy    193\n",
              "Healthy       68\n",
              "Injured       41\n",
              "DOA           36\n",
              "Name: Animal Condition, dtype: int64"
            ]
          },
          "metadata": {
            "tags": []
          },
          "execution_count": 23
        }
      ]
    },
    {
      "cell_type": "code",
      "metadata": {
        "colab": {
          "base_uri": "https://localhost:8080/"
        },
        "id": "Y0OVWjBSPZVF",
        "outputId": "4359cef5-4706-4525-9500-bde6c498c33a"
      },
      "source": [
        "df['Duration of Response'].value_counts().sort_index()"
      ],
      "execution_count": null,
      "outputs": [
        {
          "output_type": "execute_result",
          "data": {
            "text/plain": [
              "0.00       6\n",
              "0.05       2\n",
              "0.10       1\n",
              "0.15       2\n",
              "0.25      19\n",
              "0.30       2\n",
              "0.35       1\n",
              "0.50      52\n",
              "0.75      24\n",
              "1.00     101\n",
              "1.25      14\n",
              "1.50      82\n",
              "1.75      11\n",
              "2.00      57\n",
              "2.25       2\n",
              "2.50      12\n",
              "2.75       2\n",
              "3.00      11\n",
              "3.05       1\n",
              "3.50       5\n",
              "4.00      10\n",
              "4.50       2\n",
              "5.00       1\n",
              "6.00       1\n",
              "12.00      1\n",
              "Name: Duration of Response, dtype: int64"
            ]
          },
          "metadata": {
            "tags": []
          },
          "execution_count": 24
        }
      ]
    },
    {
      "cell_type": "code",
      "metadata": {
        "colab": {
          "base_uri": "https://localhost:8080/"
        },
        "id": "OW2FETj5Pmeo",
        "outputId": "478b24f8-1c73-4927-d435-4fe7abb1f5f0"
      },
      "source": [
        "df['Age'].value_counts()"
      ],
      "execution_count": null,
      "outputs": [
        {
          "output_type": "execute_result",
          "data": {
            "text/plain": [
              "Adult                      248\n",
              "Juvenile                   141\n",
              "Infant                      27\n",
              "Juvenile;#Adult              3\n",
              "Adult;#Juvenile              2\n",
              "Adult;#Juvenile;#Infant      1\n",
              "Name: Age, dtype: int64"
            ]
          },
          "metadata": {
            "tags": []
          },
          "execution_count": 25
        }
      ]
    },
    {
      "cell_type": "code",
      "metadata": {
        "id": "7UQTMyLkQkPU"
      },
      "source": [
        "df['Age'].replace({'Adult;#Juvenile;#Infant': 'Adult',\n",
        "                   'Adult;#Juvenile': 'Adult',\n",
        "                   'Juvenile;#Adult': 'Juvenile',\n",
        "                   'Infant': 'Juvenile'}, inplace = True)"
      ],
      "execution_count": null,
      "outputs": []
    },
    {
      "cell_type": "code",
      "metadata": {
        "colab": {
          "base_uri": "https://localhost:8080/"
        },
        "id": "s7YCi4hXhay2",
        "outputId": "751f9a03-55f2-4318-bacd-42928febcfe2"
      },
      "source": [
        "df['Age'].value_counts()"
      ],
      "execution_count": null,
      "outputs": [
        {
          "output_type": "execute_result",
          "data": {
            "text/plain": [
              "Adult       251\n",
              "Juvenile    171\n",
              "Name: Age, dtype: int64"
            ]
          },
          "metadata": {
            "tags": []
          },
          "execution_count": 27
        }
      ]
    },
    {
      "cell_type": "code",
      "metadata": {
        "colab": {
          "base_uri": "https://localhost:8080/"
        },
        "id": "Pfq4tOToQwRC",
        "outputId": "0e68a808-5b21-4027-a618-ad3fec5f0b21"
      },
      "source": [
        "df['# of Animals'].value_counts()"
      ],
      "execution_count": null,
      "outputs": [
        {
          "output_type": "execute_result",
          "data": {
            "text/plain": [
              "1.0    381\n",
              "2.0     11\n",
              "0.0     10\n",
              "3.0      7\n",
              "4.0      2\n",
              "7.0      2\n",
              "5.0      1\n",
              "Name: # of Animals, dtype: int64"
            ]
          },
          "metadata": {
            "tags": []
          },
          "execution_count": 28
        }
      ]
    },
    {
      "cell_type": "code",
      "metadata": {
        "id": "vU5Ddq242XV0"
      },
      "source": [
        "df.drop(columns=['# of Animals'], inplace= True)"
      ],
      "execution_count": null,
      "outputs": []
    },
    {
      "cell_type": "code",
      "metadata": {
        "colab": {
          "base_uri": "https://localhost:8080/"
        },
        "id": "Jd3YVnzNgqtS",
        "outputId": "f7f219d0-190d-480b-f4ea-725f1447cdcd"
      },
      "source": [
        "df['Animal Class'].value_counts()"
      ],
      "execution_count": null,
      "outputs": [
        {
          "output_type": "execute_result",
          "data": {
            "text/plain": [
              "Small Mammals-RVS                   294\n",
              "Birds                                49\n",
              "Raptors                              26\n",
              "Small Mammals-non RVS                22\n",
              "Domestic                             15\n",
              "Terrestrial Reptile or Amphibian      6\n",
              "Deer                                  4\n",
              "Domestic;#Birds                       2\n",
              "Domestic;#Small Mammals-non RVS       1\n",
              "Marine Reptiles                       1\n",
              "Fish-numerous quantity                1\n",
              "Small Mammals-RVS;#Raptors            1\n",
              "Name: Animal Class, dtype: int64"
            ]
          },
          "metadata": {
            "tags": []
          },
          "execution_count": 29
        }
      ]
    },
    {
      "cell_type": "code",
      "metadata": {
        "colab": {
          "base_uri": "https://localhost:8080/"
        },
        "id": "oU52PhLvh-rt",
        "outputId": "91fe48b7-e38d-4015-b4b6-43ec5e7a1811"
      },
      "source": [
        "K = list(df['Animal Class'].unique())\n",
        "newlist = [x for x in K if pd.isnull(x) == False and x != 'nan']\n",
        "newlist.sort()\n",
        "newlist"
      ],
      "execution_count": null,
      "outputs": [
        {
          "output_type": "execute_result",
          "data": {
            "text/plain": [
              "['Birds',\n",
              " 'Deer',\n",
              " 'Domestic',\n",
              " 'Domestic;#Birds',\n",
              " 'Domestic;#Small Mammals-non RVS',\n",
              " 'Fish-numerous quantity',\n",
              " 'Marine Reptiles',\n",
              " 'Raptors',\n",
              " 'Small Mammals-RVS',\n",
              " 'Small Mammals-RVS;#Raptors',\n",
              " 'Small Mammals-non RVS',\n",
              " 'Terrestrial Reptile or Amphibian']"
            ]
          },
          "metadata": {
            "tags": []
          },
          "execution_count": 30
        }
      ]
    },
    {
      "cell_type": "code",
      "metadata": {
        "id": "T5SKmawWA0um"
      },
      "source": [
        "df['Animal Class'].replace({\n",
        "                            'Deer' : 'Mammals',\n",
        "                            'Domestic;#Birds': 'Birds',\n",
        "                            'Domestic;#Small Mammals-non RVS': 'Mammals',\n",
        "                            'Fish-numerous quantity': 'Fish',\n",
        "                            'Marine Reptiles': 'Reptile',\n",
        "                            'Raptors': 'Birds',\n",
        "                            'Small Mammals-RVS': 'Mammals',\n",
        "                            'Small Mammals-RVS;#Raptors': 'Birds',\n",
        "                            'Small Mammals-non RVS': 'Mammals',\n",
        "                            'Terrestrial Reptile or Amphibian': 'Amphibian'}, inplace = True)"
      ],
      "execution_count": null,
      "outputs": []
    },
    {
      "cell_type": "code",
      "metadata": {
        "id": "A7rITnh6Bxjy",
        "colab": {
          "base_uri": "https://localhost:8080/",
          "height": 1000
        },
        "outputId": "43ec11d6-71bd-44e8-afeb-732fa2fc10da"
      },
      "source": [
        "df[df['Animal Class'] == 'Domestic']"
      ],
      "execution_count": null,
      "outputs": [
        {
          "output_type": "execute_result",
          "data": {
            "text/html": [
              "<div>\n",
              "<style scoped>\n",
              "    .dataframe tbody tr th:only-of-type {\n",
              "        vertical-align: middle;\n",
              "    }\n",
              "\n",
              "    .dataframe tbody tr th {\n",
              "        vertical-align: top;\n",
              "    }\n",
              "\n",
              "    .dataframe thead th {\n",
              "        text-align: right;\n",
              "    }\n",
              "</style>\n",
              "<table border=\"1\" class=\"dataframe\">\n",
              "  <thead>\n",
              "    <tr style=\"text-align: right;\">\n",
              "      <th></th>\n",
              "      <th>Date and Time of initial call</th>\n",
              "      <th>Date and time of Ranger response</th>\n",
              "      <th>Borough</th>\n",
              "      <th>Property</th>\n",
              "      <th>Location</th>\n",
              "      <th>Species Description</th>\n",
              "      <th>Call Source</th>\n",
              "      <th>Species Status</th>\n",
              "      <th>Animal Condition</th>\n",
              "      <th>Duration of Response</th>\n",
              "      <th>Age</th>\n",
              "      <th>Animal Class</th>\n",
              "      <th>311SR Number</th>\n",
              "      <th>Final Ranger Action</th>\n",
              "      <th># of Animals</th>\n",
              "      <th>PEP Response</th>\n",
              "      <th>Animal Monitored</th>\n",
              "      <th>Police Response</th>\n",
              "      <th>ESU Response</th>\n",
              "      <th>ACC Intake Number</th>\n",
              "    </tr>\n",
              "  </thead>\n",
              "  <tbody>\n",
              "    <tr>\n",
              "      <th>21</th>\n",
              "      <td>2018-09-11 14:30:00</td>\n",
              "      <td>2018-09-11 14:35:00</td>\n",
              "      <td>Queens</td>\n",
              "      <td>Flushing Meadows Corona Park</td>\n",
              "      <td>111th Entrance of Park</td>\n",
              "      <td>Dog</td>\n",
              "      <td>Employee</td>\n",
              "      <td>Native</td>\n",
              "      <td>Healthy</td>\n",
              "      <td>2.00</td>\n",
              "      <td>Adult</td>\n",
              "      <td>Domestic</td>\n",
              "      <td>1-1-1613573802</td>\n",
              "      <td>ACC</td>\n",
              "      <td>1.0</td>\n",
              "      <td>False</td>\n",
              "      <td>False</td>\n",
              "      <td>False</td>\n",
              "      <td>False</td>\n",
              "      <td>50316</td>\n",
              "    </tr>\n",
              "    <tr>\n",
              "      <th>22</th>\n",
              "      <td>2018-09-11 08:30:00</td>\n",
              "      <td>2018-09-11 08:45:00</td>\n",
              "      <td>Manhattan</td>\n",
              "      <td>Inwood Hill Park</td>\n",
              "      <td>Dyckman Street and Staff Street</td>\n",
              "      <td>Chicken</td>\n",
              "      <td>Public</td>\n",
              "      <td>Native</td>\n",
              "      <td>Healthy</td>\n",
              "      <td>1.50</td>\n",
              "      <td>Adult</td>\n",
              "      <td>Domestic</td>\n",
              "      <td>1-1-1615895010</td>\n",
              "      <td>Rehabilitator</td>\n",
              "      <td>1.0</td>\n",
              "      <td>False</td>\n",
              "      <td>False</td>\n",
              "      <td>False</td>\n",
              "      <td>False</td>\n",
              "      <td>NaN</td>\n",
              "    </tr>\n",
              "    <tr>\n",
              "      <th>23</th>\n",
              "      <td>2018-09-11 10:40:00</td>\n",
              "      <td>2018-09-11 10:50:00</td>\n",
              "      <td>Bronx</td>\n",
              "      <td>Merriam Playground</td>\n",
              "      <td>\"Rear path\"</td>\n",
              "      <td>Cat</td>\n",
              "      <td>Central</td>\n",
              "      <td>Native</td>\n",
              "      <td>NaN</td>\n",
              "      <td>0.75</td>\n",
              "      <td>Juvenile</td>\n",
              "      <td>Domestic</td>\n",
              "      <td>1-1-1613698400</td>\n",
              "      <td>Unfounded</td>\n",
              "      <td>1.0</td>\n",
              "      <td>False</td>\n",
              "      <td>False</td>\n",
              "      <td>False</td>\n",
              "      <td>False</td>\n",
              "      <td>NaN</td>\n",
              "    </tr>\n",
              "    <tr>\n",
              "      <th>33</th>\n",
              "      <td>2018-09-06 14:15:00</td>\n",
              "      <td>2018-09-06 14:25:00</td>\n",
              "      <td>Queens</td>\n",
              "      <td>Baisley Pond Park</td>\n",
              "      <td>Nearest cross Streets Barron St and 116 Rd, in...</td>\n",
              "      <td>Dog</td>\n",
              "      <td>Central</td>\n",
              "      <td>Native</td>\n",
              "      <td>Unhealthy</td>\n",
              "      <td>3.00</td>\n",
              "      <td>Adult</td>\n",
              "      <td>Domestic</td>\n",
              "      <td>1-1-1610274844</td>\n",
              "      <td>ACC</td>\n",
              "      <td>1.0</td>\n",
              "      <td>False</td>\n",
              "      <td>False</td>\n",
              "      <td>False</td>\n",
              "      <td>False</td>\n",
              "      <td>NaN</td>\n",
              "    </tr>\n",
              "    <tr>\n",
              "      <th>47</th>\n",
              "      <td>2018-09-03 15:30:00</td>\n",
              "      <td>2018-09-03 16:00:00</td>\n",
              "      <td>Brooklyn</td>\n",
              "      <td>Shore Road Park</td>\n",
              "      <td>79th Street and Shore Road</td>\n",
              "      <td>Homing pigeon</td>\n",
              "      <td>Employee</td>\n",
              "      <td>Native</td>\n",
              "      <td>NaN</td>\n",
              "      <td>1.00</td>\n",
              "      <td>Adult</td>\n",
              "      <td>Domestic</td>\n",
              "      <td>NaN</td>\n",
              "      <td>Unfounded</td>\n",
              "      <td>1.0</td>\n",
              "      <td>False</td>\n",
              "      <td>False</td>\n",
              "      <td>False</td>\n",
              "      <td>False</td>\n",
              "      <td>NaN</td>\n",
              "    </tr>\n",
              "    <tr>\n",
              "      <th>65</th>\n",
              "      <td>2018-08-31 10:30:00</td>\n",
              "      <td>2018-08-31 10:31:00</td>\n",
              "      <td>Manhattan</td>\n",
              "      <td>Inwood Hill Park</td>\n",
              "      <td>The caves</td>\n",
              "      <td>Kittens</td>\n",
              "      <td>Employee</td>\n",
              "      <td>Native</td>\n",
              "      <td>Healthy</td>\n",
              "      <td>2.00</td>\n",
              "      <td>Juvenile</td>\n",
              "      <td>Domestic</td>\n",
              "      <td>1-1-1610698201</td>\n",
              "      <td>ACC</td>\n",
              "      <td>3.0</td>\n",
              "      <td>True</td>\n",
              "      <td>False</td>\n",
              "      <td>True</td>\n",
              "      <td>False</td>\n",
              "      <td>40180/40181/40182</td>\n",
              "    </tr>\n",
              "    <tr>\n",
              "      <th>76</th>\n",
              "      <td>2018-08-26 12:30:00</td>\n",
              "      <td>2018-08-26 12:45:00</td>\n",
              "      <td>Manhattan</td>\n",
              "      <td>Central Park</td>\n",
              "      <td>Conservatory Garden 105th St. and 5th Ave.</td>\n",
              "      <td>Dog</td>\n",
              "      <td>Employee</td>\n",
              "      <td>Native</td>\n",
              "      <td>Healthy</td>\n",
              "      <td>0.75</td>\n",
              "      <td>Adult</td>\n",
              "      <td>Domestic</td>\n",
              "      <td>1-1-1606769440</td>\n",
              "      <td>ACC</td>\n",
              "      <td>1.0</td>\n",
              "      <td>False</td>\n",
              "      <td>False</td>\n",
              "      <td>False</td>\n",
              "      <td>False</td>\n",
              "      <td>39503</td>\n",
              "    </tr>\n",
              "    <tr>\n",
              "      <th>83</th>\n",
              "      <td>2018-08-25 11:38:00</td>\n",
              "      <td>2018-08-25 14:00:00</td>\n",
              "      <td>Manhattan</td>\n",
              "      <td>Central Park</td>\n",
              "      <td>Playground at E 76St</td>\n",
              "      <td>Rabbit</td>\n",
              "      <td>Public</td>\n",
              "      <td>Native</td>\n",
              "      <td>Healthy</td>\n",
              "      <td>1.50</td>\n",
              "      <td>Adult</td>\n",
              "      <td>Domestic</td>\n",
              "      <td>1-1-1608742858</td>\n",
              "      <td>Monitored Animal</td>\n",
              "      <td>1.0</td>\n",
              "      <td>False</td>\n",
              "      <td>True</td>\n",
              "      <td>False</td>\n",
              "      <td>False</td>\n",
              "      <td>NaN</td>\n",
              "    </tr>\n",
              "    <tr>\n",
              "      <th>159</th>\n",
              "      <td>2018-08-14 13:45:00</td>\n",
              "      <td>2018-08-14 13:45:00</td>\n",
              "      <td>Manhattan</td>\n",
              "      <td>Central Park</td>\n",
              "      <td>86St and reservoir</td>\n",
              "      <td>Raccoon</td>\n",
              "      <td>Conservancies</td>\n",
              "      <td>Native</td>\n",
              "      <td>Unhealthy</td>\n",
              "      <td>2.50</td>\n",
              "      <td>Adult</td>\n",
              "      <td>Domestic</td>\n",
              "      <td>1-1-1601184605</td>\n",
              "      <td>ACC</td>\n",
              "      <td>1.0</td>\n",
              "      <td>False</td>\n",
              "      <td>False</td>\n",
              "      <td>False</td>\n",
              "      <td>False</td>\n",
              "      <td>38182</td>\n",
              "    </tr>\n",
              "    <tr>\n",
              "      <th>243</th>\n",
              "      <td>2018-08-02 14:45:00</td>\n",
              "      <td>2018-08-02 14:55:00</td>\n",
              "      <td>Manhattan</td>\n",
              "      <td>Central Park</td>\n",
              "      <td>Turtle Pond on East Drive and East 79th</td>\n",
              "      <td>Turtle</td>\n",
              "      <td>Public</td>\n",
              "      <td>Native</td>\n",
              "      <td>Healthy</td>\n",
              "      <td>0.05</td>\n",
              "      <td>Adult</td>\n",
              "      <td>Domestic</td>\n",
              "      <td>NaN</td>\n",
              "      <td>Advised/Educated others</td>\n",
              "      <td>1.0</td>\n",
              "      <td>False</td>\n",
              "      <td>False</td>\n",
              "      <td>False</td>\n",
              "      <td>False</td>\n",
              "      <td>NaN</td>\n",
              "    </tr>\n",
              "    <tr>\n",
              "      <th>245</th>\n",
              "      <td>2018-08-03 07:30:00</td>\n",
              "      <td>2018-08-03 09:15:00</td>\n",
              "      <td>Manhattan</td>\n",
              "      <td>Central Park</td>\n",
              "      <td>Fredrick Douglas Circle. 110th and Malcom X Blvd</td>\n",
              "      <td>Raccoon</td>\n",
              "      <td>Conservancies</td>\n",
              "      <td>Native</td>\n",
              "      <td>NaN</td>\n",
              "      <td>0.15</td>\n",
              "      <td>Adult</td>\n",
              "      <td>Domestic</td>\n",
              "      <td>NaN</td>\n",
              "      <td>Unfounded</td>\n",
              "      <td>0.0</td>\n",
              "      <td>False</td>\n",
              "      <td>False</td>\n",
              "      <td>True</td>\n",
              "      <td>False</td>\n",
              "      <td>NaN</td>\n",
              "    </tr>\n",
              "    <tr>\n",
              "      <th>282</th>\n",
              "      <td>2018-07-30 09:00:00</td>\n",
              "      <td>2018-07-30 10:30:00</td>\n",
              "      <td>Brooklyn</td>\n",
              "      <td>Fort Greene Park</td>\n",
              "      <td>North East corner of park, near corner of Myrt...</td>\n",
              "      <td>Cat</td>\n",
              "      <td>Employee</td>\n",
              "      <td>Native</td>\n",
              "      <td>Healthy</td>\n",
              "      <td>2.00</td>\n",
              "      <td>Adult</td>\n",
              "      <td>Domestic</td>\n",
              "      <td>1-1-1596491810</td>\n",
              "      <td>ACC</td>\n",
              "      <td>1.0</td>\n",
              "      <td>False</td>\n",
              "      <td>False</td>\n",
              "      <td>False</td>\n",
              "      <td>False</td>\n",
              "      <td>43984</td>\n",
              "    </tr>\n",
              "    <tr>\n",
              "      <th>351</th>\n",
              "      <td>2018-07-18 20:35:00</td>\n",
              "      <td>2018-07-19 09:35:00</td>\n",
              "      <td>Queens</td>\n",
              "      <td>Alley Pond Park</td>\n",
              "      <td>NaN</td>\n",
              "      <td>Chicken</td>\n",
              "      <td>Central</td>\n",
              "      <td>Native</td>\n",
              "      <td>NaN</td>\n",
              "      <td>0.25</td>\n",
              "      <td>Adult</td>\n",
              "      <td>Domestic</td>\n",
              "      <td>1-1-1591518774</td>\n",
              "      <td>Unfounded</td>\n",
              "      <td>1.0</td>\n",
              "      <td>False</td>\n",
              "      <td>False</td>\n",
              "      <td>False</td>\n",
              "      <td>False</td>\n",
              "      <td>NaN</td>\n",
              "    </tr>\n",
              "    <tr>\n",
              "      <th>385</th>\n",
              "      <td>2018-07-13 10:43:00</td>\n",
              "      <td>2018-07-13 10:44:00</td>\n",
              "      <td>Queens</td>\n",
              "      <td>Fort Totten Park</td>\n",
              "      <td>NaN</td>\n",
              "      <td>Turtle</td>\n",
              "      <td>Employee</td>\n",
              "      <td>Native</td>\n",
              "      <td>DOA</td>\n",
              "      <td>0.50</td>\n",
              "      <td>Juvenile</td>\n",
              "      <td>Domestic</td>\n",
              "      <td>1-11-588703713</td>\n",
              "      <td>Relocated/Condition Corrected</td>\n",
              "      <td>1.0</td>\n",
              "      <td>False</td>\n",
              "      <td>False</td>\n",
              "      <td>False</td>\n",
              "      <td>False</td>\n",
              "      <td>NaN</td>\n",
              "    </tr>\n",
              "    <tr>\n",
              "      <th>394</th>\n",
              "      <td>2018-07-08 09:40:00</td>\n",
              "      <td>2018-07-08 11:00:00</td>\n",
              "      <td>Bronx</td>\n",
              "      <td>Space Time Playground</td>\n",
              "      <td>NaN</td>\n",
              "      <td>Kittens</td>\n",
              "      <td>Central</td>\n",
              "      <td>Native</td>\n",
              "      <td>Healthy</td>\n",
              "      <td>1.00</td>\n",
              "      <td>Juvenile</td>\n",
              "      <td>Domestic</td>\n",
              "      <td>1-11-584669690</td>\n",
              "      <td>ACC</td>\n",
              "      <td>3.0</td>\n",
              "      <td>False</td>\n",
              "      <td>False</td>\n",
              "      <td>False</td>\n",
              "      <td>False</td>\n",
              "      <td>40827</td>\n",
              "    </tr>\n",
              "  </tbody>\n",
              "</table>\n",
              "</div>"
            ],
            "text/plain": [
              "    Date and Time of initial call  ...  ACC Intake Number\n",
              "21            2018-09-11 14:30:00  ...              50316\n",
              "22            2018-09-11 08:30:00  ...                NaN\n",
              "23            2018-09-11 10:40:00  ...                NaN\n",
              "33            2018-09-06 14:15:00  ...                NaN\n",
              "47            2018-09-03 15:30:00  ...                NaN\n",
              "65            2018-08-31 10:30:00  ...  40180/40181/40182\n",
              "76            2018-08-26 12:30:00  ...              39503\n",
              "83            2018-08-25 11:38:00  ...                NaN\n",
              "159           2018-08-14 13:45:00  ...              38182\n",
              "243           2018-08-02 14:45:00  ...                NaN\n",
              "245           2018-08-03 07:30:00  ...                NaN\n",
              "282           2018-07-30 09:00:00  ...              43984\n",
              "351           2018-07-18 20:35:00  ...                NaN\n",
              "385           2018-07-13 10:43:00  ...                NaN\n",
              "394           2018-07-08 09:40:00  ...              40827\n",
              "\n",
              "[15 rows x 20 columns]"
            ]
          },
          "metadata": {
            "tags": []
          },
          "execution_count": 32
        }
      ]
    },
    {
      "cell_type": "code",
      "metadata": {
        "id": "2o-xA_0WBxbG"
      },
      "source": [
        "df.iloc[[21,23,33,65,76,83,159,245,282,394],11] = 'Mammals'"
      ],
      "execution_count": null,
      "outputs": []
    },
    {
      "cell_type": "code",
      "metadata": {
        "id": "vra2T7dtCylK"
      },
      "source": [
        "df.iloc[[351,47,22],11] = 'Birds'"
      ],
      "execution_count": null,
      "outputs": []
    },
    {
      "cell_type": "code",
      "metadata": {
        "id": "Uu8ylNwdEIDG"
      },
      "source": [
        "df.iloc[[243,385],11] = 'Reptile'"
      ],
      "execution_count": null,
      "outputs": []
    },
    {
      "cell_type": "code",
      "metadata": {
        "id": "2gRIGFeJEthT",
        "colab": {
          "base_uri": "https://localhost:8080/"
        },
        "outputId": "3c5714e6-7dc9-41a2-d082-938978ae8cd5"
      },
      "source": [
        "df['Animal Class'].value_counts()"
      ],
      "execution_count": null,
      "outputs": [
        {
          "output_type": "execute_result",
          "data": {
            "text/plain": [
              "Mammals      331\n",
              "Birds         81\n",
              "Amphibian      6\n",
              "Reptile        3\n",
              "Fish           1\n",
              "Name: Animal Class, dtype: int64"
            ]
          },
          "metadata": {
            "tags": []
          },
          "execution_count": 36
        }
      ]
    },
    {
      "cell_type": "markdown",
      "metadata": {
        "id": "gFbcg1JE0utZ"
      },
      "source": [
        "#Missing Values"
      ]
    },
    {
      "cell_type": "code",
      "metadata": {
        "colab": {
          "base_uri": "https://localhost:8080/"
        },
        "id": "4P1PPJVk0t7U",
        "outputId": "3e081ee6-5bfe-429c-a887-42b0a0945e82"
      },
      "source": [
        "df.isnull().sum()"
      ],
      "execution_count": null,
      "outputs": [
        {
          "output_type": "execute_result",
          "data": {
            "text/plain": [
              "Date and Time of initial call         0\n",
              "Date and time of Ranger response      0\n",
              "Borough                               0\n",
              "Property                              0\n",
              "Location                             66\n",
              "Species Description                   0\n",
              "Call Source                           0\n",
              "Species Status                        0\n",
              "Animal Condition                      0\n",
              "Duration of Response                  0\n",
              "Age                                   0\n",
              "Animal Class                          0\n",
              "311SR Number                        168\n",
              "Final Ranger Action                   0\n",
              "PEP Response                          0\n",
              "Animal Monitored                      0\n",
              "Police Response                       0\n",
              "ESU Response                          0\n",
              "ACC Intake Number                   238\n",
              "dtype: int64"
            ]
          },
          "metadata": {
            "tags": []
          },
          "execution_count": 45
        }
      ]
    },
    {
      "cell_type": "code",
      "metadata": {
        "id": "spqBb7PSbfV2"
      },
      "source": [
        "from sklearn.impute import SimpleImputer\n",
        "\n",
        "#Categorical variables\n",
        "\n",
        "\n",
        "categ_var = df[['Species Description', 'Species Status', 'Animal Condition', 'PEP Response', 'Animal Monitored', 'Police Response']]\n",
        "imputer = SimpleImputer(missing_values=np.nan, strategy='most_frequent').fit(categ_var)\n",
        "df[['Species Description', 'Species Status', 'Animal Condition', 'PEP Response', 'Animal Monitored', 'Police Response']]= imputer.transform(categ_var)\n"
      ],
      "execution_count": null,
      "outputs": []
    }
  ]
}